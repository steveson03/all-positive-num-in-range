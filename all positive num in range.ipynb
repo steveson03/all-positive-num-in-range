{
 "cells": [
  {
   "cell_type": "code",
   "execution_count": 4,
   "id": "b83c714e",
   "metadata": {},
   "outputs": [
    {
     "name": "stdout",
     "output_type": "stream",
     "text": [
      "Input list 1:  [12, -7, 5, 64, -14]\n",
      "output list 1: \n",
      "12 5 64 "
     ]
    }
   ],
   "source": [
    "\n",
    "input_list1 = [12,-7,5,64,-14]\n",
    "\n",
    "print(\"Input list 1: \",input_list1)\n",
    "print(\"output list 1: \")\n",
    "\n",
    "for pos_nums in input_list1:\n",
    "    if pos_nums > 0:\n",
    "        print(pos_nums, end = \" \")\n",
    "        "
   ]
  },
  {
   "cell_type": "code",
   "execution_count": 9,
   "id": "dc46d066",
   "metadata": {},
   "outputs": [
    {
     "name": "stdout",
     "output_type": "stream",
     "text": [
      "Input list 2:  [12, 14, -95, 3]\n",
      "output list 2:     \n",
      "12 14 3 "
     ]
    }
   ],
   "source": [
    "\n",
    "input_list2 = [12,14,-95,3]\n",
    "\n",
    "print(\"Input list 2: \",input_list2)\n",
    "print(\"output list 2: \")\n",
    "\n",
    "for pos_nums in input_list2:\n",
    "    if pos_nums > 0:\n",
    "        print(pos_nums, end = \" \")"
   ]
  },
  {
   "cell_type": "code",
   "execution_count": null,
   "id": "53b29212",
   "metadata": {},
   "outputs": [],
   "source": []
  }
 ],
 "metadata": {
  "kernelspec": {
   "display_name": "Python 3 (ipykernel)",
   "language": "python",
   "name": "python3"
  },
  "language_info": {
   "codemirror_mode": {
    "name": "ipython",
    "version": 3
   },
   "file_extension": ".py",
   "mimetype": "text/x-python",
   "name": "python",
   "nbconvert_exporter": "python",
   "pygments_lexer": "ipython3",
   "version": "3.9.6"
  }
 },
 "nbformat": 4,
 "nbformat_minor": 5
}
